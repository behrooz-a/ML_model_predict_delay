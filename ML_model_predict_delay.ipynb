{
 "cells": [
  {
   "cell_type": "code",
   "execution_count": 1,
   "metadata": {
    "colab": {},
    "colab_type": "code",
    "id": "271T5rNSc1qm"
   },
   "outputs": [],
   "source": [
    "# If additional packages need to be used, uncomment the last two lines of this cell and replace <package list> with a list of additional packages.\n",
    "# This will ensure the notebook has all the dependencies satisfied and works everywhere.\n",
    "\n",
    "#import sys\n",
    "#!{sys.executable} -m pip install <package list>"
   ]
  },
  {
   "cell_type": "markdown",
   "metadata": {
    "colab_type": "text",
    "id": "LNeK6ftQc1qq"
   },
   "source": [
    "### Libraries"
   ]
  },
  {
   "cell_type": "code",
   "execution_count": 2,
   "metadata": {
    "colab": {},
    "colab_type": "code",
    "id": "JjE1ypoyc1qq"
   },
   "outputs": [],
   "source": [
    "import numpy as np\n",
    "import pandas as pd\n",
    "import matplotlib.pyplot as plt\n",
    "import seaborn as sns\n",
    "\n",
    "from warnings import filterwarnings\n",
    "\n",
    "pd.set_option('display.float_format', lambda num:'%1.3f'%num)\n",
    "pd.set_option('display.max_columns', 99)\n",
    "filterwarnings('ignore')"
   ]
  },
  {
   "cell_type": "markdown",
   "metadata": {
    "colab_type": "text",
    "id": "3XiMx8grc1qs"
   },
   "source": [
    "# Data Description\n",
    "\n",
    "Feature | Description\n",
    ":---|:---\n",
    "UniqueId |The unique id of an invoice.\n",
    "Region |The geographical region of the customer.\n",
    "OrderDate| The date on which order was placed. (YYYY-MM-DD)\n",
    "InvoiceDate| The date on which the invoice was generated. (YYYY-MM-DD)\n",
    "Amount| The amount of the invoice. (in US $)\n",
    "DueDate| Due date by which payment should have been received. (YYY-MM-DD)\n",
    "Dispute| Whether the customer has accepted or not the invoice amount. True indicates the invoice is disputed and False indicates the invoice is agreed to.\n",
    "InvoiceType| The invoice can be of two types, ‘electronic’ or ‘paper’.\n",
    "Delay|This is the response variable. True to indicate that the payment deadline was violated and False to indicate on-time clearance.\n"
   ]
  },
  {
   "cell_type": "markdown",
   "metadata": {
    "colab_type": "text",
    "id": "dd-AUgk5c1qz"
   },
   "source": [
    "# Data Wrangling & Visualization \n",
    "\n",
    "\n"
   ]
  },
  {
   "cell_type": "code",
   "execution_count": 3,
   "metadata": {
    "colab": {},
    "colab_type": "code",
    "id": "bPWIkZSyasKH"
   },
   "outputs": [],
   "source": [
    "train = pd.read_csv(\"train.csv\", index_col=0)"
   ]
  },
  {
   "cell_type": "code",
   "execution_count": 10,
   "metadata": {
    "colab": {},
    "colab_type": "code",
    "id": "_4UrCtbSasKJ"
   },
   "outputs": [
    {
     "data": {
      "text/plain": [
       "(1850, 8)"
      ]
     },
     "execution_count": 10,
     "metadata": {},
     "output_type": "execute_result"
    }
   ],
   "source": [
    "train.head()\n",
    "train.shape"
   ]
  },
  {
   "cell_type": "code",
   "execution_count": 5,
   "metadata": {
    "colab": {},
    "colab_type": "code",
    "id": "W4tSmPPEasKK"
   },
   "outputs": [
    {
     "data": {
      "text/plain": [
       "Index(['Region', 'OrderDate', 'InvoiceDate', 'DueDate', 'Amount', 'Disputed',\n",
       "       'InvoiceType', 'Delay'],\n",
       "      dtype='object')"
      ]
     },
     "execution_count": 5,
     "metadata": {},
     "output_type": "execute_result"
    }
   ],
   "source": [
    "#Explore columns\n",
    "train.columns"
   ]
  },
  {
   "cell_type": "code",
   "execution_count": 6,
   "metadata": {
    "colab": {},
    "colab_type": "code",
    "id": "dNTDbVpS3PNV"
   },
   "outputs": [
    {
     "data": {
      "text/html": [
       "<div>\n",
       "<style scoped>\n",
       "    .dataframe tbody tr th:only-of-type {\n",
       "        vertical-align: middle;\n",
       "    }\n",
       "\n",
       "    .dataframe tbody tr th {\n",
       "        vertical-align: top;\n",
       "    }\n",
       "\n",
       "    .dataframe thead th {\n",
       "        text-align: right;\n",
       "    }\n",
       "</style>\n",
       "<table border=\"1\" class=\"dataframe\">\n",
       "  <thead>\n",
       "    <tr style=\"text-align: right;\">\n",
       "      <th></th>\n",
       "      <th>Amount</th>\n",
       "    </tr>\n",
       "  </thead>\n",
       "  <tbody>\n",
       "    <tr>\n",
       "      <th>count</th>\n",
       "      <td>1842.000</td>\n",
       "    </tr>\n",
       "    <tr>\n",
       "      <th>mean</th>\n",
       "      <td>59.585</td>\n",
       "    </tr>\n",
       "    <tr>\n",
       "      <th>std</th>\n",
       "      <td>21.383</td>\n",
       "    </tr>\n",
       "    <tr>\n",
       "      <th>min</th>\n",
       "      <td>-97.330</td>\n",
       "    </tr>\n",
       "    <tr>\n",
       "      <th>25%</th>\n",
       "      <td>46.320</td>\n",
       "    </tr>\n",
       "    <tr>\n",
       "      <th>50%</th>\n",
       "      <td>60.350</td>\n",
       "    </tr>\n",
       "    <tr>\n",
       "      <th>75%</th>\n",
       "      <td>73.745</td>\n",
       "    </tr>\n",
       "    <tr>\n",
       "      <th>max</th>\n",
       "      <td>128.280</td>\n",
       "    </tr>\n",
       "  </tbody>\n",
       "</table>\n",
       "</div>"
      ],
      "text/plain": [
       "        Amount\n",
       "count 1842.000\n",
       "mean    59.585\n",
       "std     21.383\n",
       "min    -97.330\n",
       "25%     46.320\n",
       "50%     60.350\n",
       "75%     73.745\n",
       "max    128.280"
      ]
     },
     "execution_count": 6,
     "metadata": {},
     "output_type": "execute_result"
    }
   ],
   "source": [
    "#Description\n",
    "train.describe()"
   ]
  },
  {
   "cell_type": "code",
   "execution_count": 953,
   "metadata": {},
   "outputs": [
    {
     "data": {
      "text/html": [
       "<div>\n",
       "<style scoped>\n",
       "    .dataframe tbody tr th:only-of-type {\n",
       "        vertical-align: middle;\n",
       "    }\n",
       "\n",
       "    .dataframe tbody tr th {\n",
       "        vertical-align: top;\n",
       "    }\n",
       "\n",
       "    .dataframe thead th {\n",
       "        text-align: right;\n",
       "    }\n",
       "</style>\n",
       "<table border=\"1\" class=\"dataframe\">\n",
       "  <thead>\n",
       "    <tr style=\"text-align: right;\">\n",
       "      <th></th>\n",
       "      <th>NULL_COUNTS</th>\n",
       "    </tr>\n",
       "  </thead>\n",
       "  <tbody>\n",
       "  </tbody>\n",
       "</table>\n",
       "</div>"
      ],
      "text/plain": [
       "Empty DataFrame\n",
       "Columns: [NULL_COUNTS]\n",
       "Index: []"
      ]
     },
     "execution_count": 953,
     "metadata": {},
     "output_type": "execute_result"
    }
   ],
   "source": [
    "# Pre processing section: remove the null values\n",
    "train=train.dropna()\n",
    "null_vals = train.isnull().sum().to_frame(name = 'NULL_COUNTS')\n",
    "null_vals = null_vals[null_vals['NULL_COUNTS']>0]\n",
    "null_features = null_vals.index\n",
    "null_vals"
   ]
  },
  {
   "cell_type": "code",
   "execution_count": null,
   "metadata": {},
   "outputs": [],
   "source": []
  },
  {
   "cell_type": "code",
   "execution_count": 8,
   "metadata": {},
   "outputs": [],
   "source": [
    "#Defining the season for north hemisphere\n",
    "\n",
    "def find_season(month):\n",
    "    if month <=3:\n",
    "        return 1\n",
    "    elif month >3 and month <=6:\n",
    "        return 2\n",
    "    elif month >7 and month <=9:\n",
    "        return 3\n",
    "    else:\n",
    "        return 4"
   ]
  },
  {
   "cell_type": "code",
   "execution_count": 954,
   "metadata": {},
   "outputs": [],
   "source": [
    "# find the day, week, month, season, and year for Duedate, but day, week, and season, and month for the rest and finally the differnce between DueDate and the rest of date\n",
    "\n",
    "from datetime import datetime\n",
    "import datetime\n",
    "\n",
    "\n",
    "OrderDate=np.c_[train['OrderDate']]\n",
    "InvoiceDate=np.c_[train['InvoiceDate']]\n",
    "DueDate=np.c_[train['DueDate']]\n",
    "\n",
    "# generate InvoiceDate data\n",
    "\n",
    "invoiceD= np.empty([len(InvoiceDate), 1],dtype=np.int32)\n",
    "invoiceM= np.empty([len(InvoiceDate), 1],dtype=np.int32)\n",
    "invoiceW= np.empty([len(InvoiceDate), 1],dtype=np.int32)\n",
    "invoiceS= np.empty([len(InvoiceDate), 1],dtype=np.int32)\n",
    "\n",
    "\n",
    "for i in range (0, len(InvoiceDate)):\n",
    "    dd=InvoiceDate[i,0]\n",
    "    my_list = dd.split('-')\n",
    "    invoiceD[i,0]=int(my_list[2])\n",
    "    invoiceM[i,0]=int(my_list[1])\n",
    "    invoiceW[i,0]=int(datetime.date(int(my_list[0]),int(my_list[1]),int(my_list[2])).strftime(\"%V\"))\n",
    "    invoiceS[i,0]=find_season(int(my_list[1]))\n",
    "\n",
    "# generate OrderDate data\n",
    "\n",
    "orderDateD= np.empty([len(OrderDate), 1],dtype=np.int32)\n",
    "orderDateM= np.empty([len(OrderDate), 1],dtype=np.int32)\n",
    "orderDateW= np.empty([len(OrderDate), 1],dtype=np.int32)\n",
    "orderDateS= np.empty([len(OrderDate), 1],dtype=np.int32)\n",
    "\n",
    "for i in range (0, len(OrderDate)):\n",
    "    dd=OrderDate[i,0]\n",
    "    my_list = dd.split('-')\n",
    "    orderDateD[i,0]=int(my_list[2])\n",
    "    orderDateM[i,0]=int(my_list[1])\n",
    "    orderDateW[i,0]=int(datetime.date(int(my_list[0]),int(my_list[1]),int(my_list[2])).strftime(\"%V\"))\n",
    "    orderDateS[i,0]=find_season(int(my_list[1]))\n",
    "\n",
    "\n",
    "# generate DueDate data\n",
    "\n",
    "dueDateD= np.empty([len(DueDate), 1],dtype=np.int32)\n",
    "dueDateM= np.empty([len(DueDate), 1],dtype=np.int32)\n",
    "dueDateY= np.empty([len(DueDate), 1],dtype=np.int32)\n",
    "dueDateW= np.empty([len(DueDate), 1],dtype=np.int32)\n",
    "dueDateS= np.empty([len(DueDate), 1],dtype=np.int32)\n",
    "\n",
    "for i in range (0, len(DueDate)):\n",
    "    dd=DueDate[i,0]\n",
    "    my_list = dd.split('-')\n",
    "    dueDateD[i,0]=int(my_list[2])\n",
    "    dueDateM[i,0]=int(my_list[1])\n",
    "    dueDateY[i,0]=int(my_list[0])\n",
    "    dueDateW[i,0]=int(datetime.date(int(my_list[0]),int(my_list[1]),int(my_list[2])).strftime(\"%V\"))\n",
    "    dueDateS[i,0]=find_season(int(my_list[1]))\n",
    "\n",
    "\n",
    "# generate the difference between two dates\n",
    "\n",
    "due_invoice= np.empty([len(InvoiceDate), 1],dtype=np.int32)\n",
    "due_order= np.empty([len(InvoiceDate), 1],dtype=np.int32)\n",
    "invoice_order= np.empty([len(InvoiceDate), 1],dtype=np.int32)\n",
    "\n",
    "for i in range (0, len(DueDate)):\n",
    "\n",
    "    s=DueDate[i,0]\n",
    "    ss=OrderDate[i,0]\n",
    "    sss=InvoiceDate[i,0]\n",
    "\n",
    "\n",
    "    from datetime import datetime\n",
    "    dt = datetime.strptime(s, '%Y-%m-%d').date() \n",
    "    dto = datetime.strptime(ss, '%Y-%m-%d').date()\n",
    "    dtoo = datetime.strptime(sss, '%Y-%m-%d').date()\n",
    "    h1=dt-dtoo   # difference between DueDate and OrderDate\n",
    "    h2=dt-dto    # difference between DueDate and OrderDate\n",
    "    h3=dtoo-dto  # difference between InvoiceDate and OrderDate\n",
    "    due_invoice[i,0]=int(h1.days)\n",
    "    due_order[i,0]=int(h2.days)\n",
    "    invoice_order[i,0]=int(h3.days)"
   ]
  },
  {
   "cell_type": "code",
   "execution_count": 955,
   "metadata": {},
   "outputs": [],
   "source": [
    "# Calculate various statistical features and parameters of day, month, week, and season of for each client \n",
    "\n",
    "from numpy import var\n",
    "from numpy import std\n",
    "from numpy import cov\n",
    "from statistics import median\n",
    "from statistics import mean\n",
    "from scipy.stats import gmean\n",
    "from statsmodels.tsa.ar_model import AutoReg\n",
    "\n",
    "DATA1=np.array([])\n",
    "DATA2=np.array([])\n",
    "DATA3=np.array([])\n",
    "DATA4=np.array([])\n",
    "DATA5=np.array([])\n",
    "DATA6=np.array([])\n",
    "DATA7=np.array([])\n",
    "DATA8=np.array([])\n",
    "DATA9=np.array([])\n",
    "DATA10=np.array([])\n",
    "DATA11=np.array([])\n",
    "DATA12=np.array([])\n",
    "DATA13=np.array([])\n",
    "DATA14=np.array([])\n",
    "DATA15=np.array([])\n",
    "DATA16=np.array([])\n",
    "DATA17=np.array([])\n",
    "DATA18=np.array([])\n",
    "DATA19=np.array([])\n",
    "DATA20=np.array([])\n",
    "DATA21=np.array([])\n",
    "DATA22=np.array([])\n",
    "DATA23=np.array([])\n",
    "DATA24=np.array([])\n",
    "\n",
    "\n",
    "for i in range (0,len(InvoiceDate)):\n",
    "    DATA1=np.append(DATA1,median([orderDateD[i,0],orderDateM[i,0],orderDateW[i,0],orderDateS[i,0]]))\n",
    "    DATA2=np.append(DATA2,mean([orderDateD[i,0],orderDateM[i,0],orderDateW[i,0],orderDateS[i,0]]))\n",
    "    DATA3=np.append(DATA3,gmean([orderDateD[i,0],orderDateM[i,0],orderDateW[i,0],orderDateS[i,0]]))\n",
    "    DATA4=np.append(DATA4,var([orderDateD[i,0],orderDateM[i,0],orderDateW[i,0],orderDateS[i,0]]))\n",
    "    DATA5=np.append(DATA5,std([orderDateD[i,0],orderDateM[i,0],orderDateW[i,0],orderDateS[i,0]]))\n",
    "    DATA6=np.append(DATA6,cov([orderDateD[i,0],orderDateM[i,0],orderDateW[i,0],orderDateS[i,0]]))\n",
    "    model=AutoReg([orderDateD[i,0],orderDateM[i,0],orderDateW[i,0],orderDateS[i,0]],lags=1)\n",
    "    model_fit = model.fit()\n",
    "    DATA7=np.append(DATA7,model_fit.params[0])\n",
    "    DATA8=np.append(DATA8,model_fit.params[1])\n",
    "\n",
    "    DATA9=np.append(DATA9,median([invoiceD[i,0],invoiceM[i,0],invoiceW[i,0],invoiceS[i,0]]))\n",
    "    DATA10=np.append(DATA10,mean([invoiceD[i,0],invoiceM[i,0],invoiceW[i,0],invoiceS[i,0]]))\n",
    "    DATA11=np.append(DATA11,gmean([invoiceD[i,0],invoiceM[i,0],invoiceW[i,0],invoiceS[i,0]]))\n",
    "    DATA12=np.append(DATA12,var([invoiceD[i,0],invoiceM[i,0],invoiceW[i,0],invoiceS[i,0]]))\n",
    "    DATA13=np.append(DATA13,std([invoiceD[i,0],invoiceM[i,0],invoiceW[i,0],invoiceS[i,0]]))\n",
    "    DATA14=np.append(DATA14,cov([invoiceD[i,0],invoiceM[i,0],invoiceW[i,0],invoiceS[i,0]]))\n",
    "    model=AutoReg([invoiceD[i,0],invoiceM[i,0],invoiceW[i,0],invoiceS[i,0]],lags=1)\n",
    "    model_fit = model.fit()\n",
    "    DATA15=np.append(DATA15,model_fit.params[0])\n",
    "    DATA16=np.append(DATA16,model_fit.params[1])\n",
    "\n",
    "    DATA17=np.append(DATA17,median([dueDateD[i,0],dueDateM[i,0],dueDateW[i,0],dueDateS[i,0]]))\n",
    "    DATA18=np.append(DATA18,mean([dueDateD[i,0],dueDateM[i,0],dueDateW[i,0],dueDateS[i,0]]))\n",
    "    DATA19=np.append(DATA19,gmean([dueDateD[i,0],dueDateM[i,0],dueDateW[i,0],dueDateS[i,0]]))\n",
    "    DATA20=np.append(DATA20,var([dueDateD[i,0],dueDateM[i,0],dueDateW[i,0],dueDateS[i,0]]))\n",
    "    DATA21=np.append(DATA21,std([dueDateD[i,0],dueDateM[i,0],dueDateW[i,0],dueDateS[i,0]]))\n",
    "    DATA22=np.append(DATA22,cov([dueDateD[i,0],dueDateM[i,0],dueDateW[i,0],dueDateS[i,0]]))\n",
    "    model=AutoReg([dueDateD[i,0],dueDateM[i,0],dueDateW[i,0],dueDateS[i,0]],lags=1)\n",
    "    model_fit = model.fit()\n",
    "    DATA23=np.append(DATA23,model_fit.params[0])\n",
    "    DATA24=np.append(DATA24,model_fit.params[1])\n"
   ]
  },
  {
   "cell_type": "code",
   "execution_count": 963,
   "metadata": {
    "colab": {},
    "colab_type": "code",
    "id": "OTAmbKi8asKt"
   },
   "outputs": [],
   "source": [
    "# First drop all date related data and the UniqueId from train set and then concatinate the processed data to the rest of train set\n",
    "\n",
    "\n",
    "train_N=train.drop(columns=['OrderDate','InvoiceDate','DueDate'])  # drop all date related data and the UniqueId from train set \n",
    "train_N['Region'].replace(['North America', 'South  America',  'Europe', 'Africa&Asia','South America','Central America','Africa&psia','SouthCUmeVica'], [0, 1, 2, 3,4,5,6,7], inplace=True)  #create dummy variables for region \n",
    "train_N=pd.get_dummies(train_N, columns=['Disputed','InvoiceType', 'Delay'], drop_first=True)  # generate dummies for the rest of categorical variables\n",
    "\n",
    "Y_train=np.c_[train_N['Delay_True']]   # create the target for training and convert it to numpy array\n",
    "\n",
    "X_train2=np.column_stack((orderDateD,orderDateM,orderDateW,orderDateS,invoiceD,invoiceM,invoiceW,invoiceS,dueDateD,dueDateM,dueDateW,dueDateS,dueDateY,due_invoice,due_order,invoice_order)) # concatinate part of the date features\n",
    "X_train3=np.column_stack((DATA1,DATA2,DATA3,DATA4,DATA5,DATA6,DATA7,DATA8,DATA9,DATA10,DATA11,DATA12,DATA13,DATA14,DATA15,DATA16,DATA17,DATA18,DATA19,DATA20,DATA21,DATA22,DATA23,DATA24))   # concatinate the statistical features\n",
    "\n",
    "X_train1=train_N.drop(columns=['Delay_True'])  # drop the target from train set  \n",
    "X_train4=X_train1.to_numpy()\n",
    "X_train=np.column_stack((X_train4, X_train2,X_train3))                        #generate the train set feature"
   ]
  },
  {
   "cell_type": "markdown",
   "metadata": {},
   "source": [
    "Generate a test set"
   ]
  },
  {
   "cell_type": "code",
   "execution_count": 887,
   "metadata": {},
   "outputs": [
    {
     "data": {
      "text/html": [
       "<div>\n",
       "<style scoped>\n",
       "    .dataframe tbody tr th:only-of-type {\n",
       "        vertical-align: middle;\n",
       "    }\n",
       "\n",
       "    .dataframe tbody tr th {\n",
       "        vertical-align: top;\n",
       "    }\n",
       "\n",
       "    .dataframe thead th {\n",
       "        text-align: right;\n",
       "    }\n",
       "</style>\n",
       "<table border=\"1\" class=\"dataframe\">\n",
       "  <thead>\n",
       "    <tr style=\"text-align: right;\">\n",
       "      <th></th>\n",
       "      <th>NULL_COUNTS</th>\n",
       "    </tr>\n",
       "  </thead>\n",
       "  <tbody>\n",
       "  </tbody>\n",
       "</table>\n",
       "</div>"
      ],
      "text/plain": [
       "Empty DataFrame\n",
       "Columns: [NULL_COUNTS]\n",
       "Index: []"
      ]
     },
     "execution_count": 887,
     "metadata": {},
     "output_type": "execute_result"
    }
   ],
   "source": [
    "# prepare the test set and do the same procedure what has been done for train set\n",
    "\n",
    "test = pd.read_csv(\"test.csv\", index_col=0)\n",
    "\n",
    "# Pre processing section: remove the null values\n",
    "test=test.dropna()\n",
    "null_vals = test.isnull().sum().to_frame(name = 'NULL_COUNTS')\n",
    "null_vals = null_vals[null_vals['NULL_COUNTS']>0]\n",
    "null_features = null_vals.index\n",
    "null_vals"
   ]
  },
  {
   "cell_type": "code",
   "execution_count": 888,
   "metadata": {},
   "outputs": [],
   "source": [
    "# For test set :find the day, week, month, season, and year for Duedate, but day, week, and season, and month for the rest and finally the differnce between DueDate and the rest of date\n",
    "\n",
    "from datetime import datetime\n",
    "import datetime\n",
    "\n",
    "\n",
    "OrderDate=np.c_[test['OrderDate']]\n",
    "InvoiceDate=np.c_[test['InvoiceDate']]\n",
    "DueDate=np.c_[test['DueDate']]\n",
    "\n",
    "# generate InvoiceDate data\n",
    "\n",
    "invoiceD= np.empty([len(InvoiceDate), 1],dtype=np.int32)\n",
    "invoiceM= np.empty([len(InvoiceDate), 1],dtype=np.int32)\n",
    "invoiceW= np.empty([len(InvoiceDate), 1],dtype=np.int32)\n",
    "invoiceS= np.empty([len(InvoiceDate), 1],dtype=np.int32)\n",
    "\n",
    "\n",
    "for i in range (0, len(InvoiceDate)):\n",
    "    dd=InvoiceDate[i,0]\n",
    "    my_list = dd.split('-')\n",
    "    invoiceD[i,0]=int(my_list[2])\n",
    "    invoiceM[i,0]=int(my_list[1])\n",
    "    invoiceW[i,0]=int(datetime.date(int(my_list[0]),int(my_list[1]),int(my_list[2])).strftime(\"%V\"))\n",
    "    invoiceS[i,0]=find_season(int(my_list[1]))\n",
    "\n",
    "# generate OrderDate data\n",
    "\n",
    "orderDateD= np.empty([len(OrderDate), 1],dtype=np.int32)\n",
    "orderDateM= np.empty([len(OrderDate), 1],dtype=np.int32)\n",
    "orderDateW= np.empty([len(OrderDate), 1],dtype=np.int32)\n",
    "orderDateS= np.empty([len(OrderDate), 1],dtype=np.int32)\n",
    "\n",
    "for i in range (0, len(OrderDate)):\n",
    "    dd=OrderDate[i,0]\n",
    "    my_list = dd.split('-')\n",
    "    orderDateD[i,0]=int(my_list[2])\n",
    "    orderDateM[i,0]=int(my_list[1])\n",
    "    orderDateW[i,0]=int(datetime.date(int(my_list[0]),int(my_list[1]),int(my_list[2])).strftime(\"%V\"))\n",
    "    orderDateS[i,0]=find_season(int(my_list[1]))\n",
    "\n",
    "\n",
    "# generate DueDate data\n",
    "\n",
    "dueDateD= np.empty([len(DueDate), 1],dtype=np.int32)\n",
    "dueDateM= np.empty([len(DueDate), 1],dtype=np.int32)\n",
    "dueDateY= np.empty([len(DueDate), 1],dtype=np.int32)\n",
    "dueDateW= np.empty([len(DueDate), 1],dtype=np.int32)\n",
    "dueDateS= np.empty([len(DueDate), 1],dtype=np.int32)\n",
    "\n",
    "for i in range (0, len(DueDate)):\n",
    "    dd=DueDate[i,0]\n",
    "    my_list = dd.split('-')\n",
    "    dueDateD[i,0]=int(my_list[2])\n",
    "    dueDateM[i,0]=int(my_list[1])\n",
    "    dueDateY[i,0]=int(my_list[0])\n",
    "    dueDateW[i,0]=int(datetime.date(int(my_list[0]),int(my_list[1]),int(my_list[2])).strftime(\"%V\"))\n",
    "    dueDateS[i,0]=find_season(int(my_list[1]))\n",
    "\n",
    "\n",
    "# generate the difference between two dates\n",
    "\n",
    "due_invoice= np.empty([len(InvoiceDate), 1],dtype=np.int32)\n",
    "due_order= np.empty([len(InvoiceDate), 1],dtype=np.int32)\n",
    "invoice_order= np.empty([len(InvoiceDate), 1],dtype=np.int32)\n",
    "\n",
    "for i in range (0, len(DueDate)):\n",
    "\n",
    "    s=DueDate[i,0]\n",
    "    ss=OrderDate[i,0]\n",
    "    sss=InvoiceDate[i,0]\n",
    "\n",
    "\n",
    "    from datetime import datetime\n",
    "    dt = datetime.strptime(s, '%Y-%m-%d').date() \n",
    "    dto = datetime.strptime(ss, '%Y-%m-%d').date()\n",
    "    dtoo = datetime.strptime(sss, '%Y-%m-%d').date()\n",
    "    h1=dt-dtoo   # difference between DueDate and OrderDate\n",
    "    h2=dt-dto    # difference between DueDate and OrderDate\n",
    "    h3=dtoo-dto  # difference between InvoiceDate and OrderDate\n",
    "    due_invoice[i,0]=int(h1.days)\n",
    "    due_order[i,0]=int(h2.days)\n",
    "    invoice_order[i,0]=int(h3.days)"
   ]
  },
  {
   "cell_type": "code",
   "execution_count": 889,
   "metadata": {},
   "outputs": [],
   "source": [
    "# For test set: Calculate various statistical features and parameters of day, month, week, and season of for each client \n",
    "\n",
    "\n",
    "DATA1=np.array([])\n",
    "DATA2=np.array([])\n",
    "DATA3=np.array([])\n",
    "DATA4=np.array([])\n",
    "DATA5=np.array([])\n",
    "DATA6=np.array([])\n",
    "DATA7=np.array([])\n",
    "DATA8=np.array([])\n",
    "DATA9=np.array([])\n",
    "DATA10=np.array([])\n",
    "DATA11=np.array([])\n",
    "DATA12=np.array([])\n",
    "DATA13=np.array([])\n",
    "DATA14=np.array([])\n",
    "DATA15=np.array([])\n",
    "DATA16=np.array([])\n",
    "DATA17=np.array([])\n",
    "DATA18=np.array([])\n",
    "DATA19=np.array([])\n",
    "DATA20=np.array([])\n",
    "DATA21=np.array([])\n",
    "DATA22=np.array([])\n",
    "DATA23=np.array([])\n",
    "DATA24=np.array([])\n",
    "\n",
    "\n",
    "for i in range (0,len(InvoiceDate)):\n",
    "    DATA1=np.append(DATA1,median([orderDateD[i,0],orderDateM[i,0],orderDateW[i,0],orderDateS[i,0]]))\n",
    "    DATA2=np.append(DATA2,mean([orderDateD[i,0],orderDateM[i,0],orderDateW[i,0],orderDateS[i,0]]))\n",
    "    DATA3=np.append(DATA3,gmean([orderDateD[i,0],orderDateM[i,0],orderDateW[i,0],orderDateS[i,0]]))\n",
    "    DATA4=np.append(DATA4,var([orderDateD[i,0],orderDateM[i,0],orderDateW[i,0],orderDateS[i,0]]))\n",
    "    DATA5=np.append(DATA5,std([orderDateD[i,0],orderDateM[i,0],orderDateW[i,0],orderDateS[i,0]]))\n",
    "    DATA6=np.append(DATA6,cov([orderDateD[i,0],orderDateM[i,0],orderDateW[i,0],orderDateS[i,0]]))\n",
    "    model=AutoReg([orderDateD[i,0],orderDateM[i,0],orderDateW[i,0],orderDateS[i,0]],lags=1)\n",
    "    model_fit = model.fit()\n",
    "    DATA7=np.append(DATA7,model_fit.params[0])\n",
    "    DATA8=np.append(DATA8,model_fit.params[1])\n",
    "\n",
    "    DATA9=np.append(DATA9,median([invoiceD[i,0],invoiceM[i,0],invoiceW[i,0],invoiceS[i,0]]))\n",
    "    DATA10=np.append(DATA10,mean([invoiceD[i,0],invoiceM[i,0],invoiceW[i,0],invoiceS[i,0]]))\n",
    "    DATA11=np.append(DATA11,gmean([invoiceD[i,0],invoiceM[i,0],invoiceW[i,0],invoiceS[i,0]]))\n",
    "    DATA12=np.append(DATA12,var([invoiceD[i,0],invoiceM[i,0],invoiceW[i,0],invoiceS[i,0]]))\n",
    "    DATA13=np.append(DATA13,std([invoiceD[i,0],invoiceM[i,0],invoiceW[i,0],invoiceS[i,0]]))\n",
    "    DATA14=np.append(DATA14,cov([invoiceD[i,0],invoiceM[i,0],invoiceW[i,0],invoiceS[i,0]]))\n",
    "    model=AutoReg([invoiceD[i,0],invoiceM[i,0],invoiceW[i,0],invoiceS[i,0]],lags=1)\n",
    "    model_fit = model.fit()\n",
    "    DATA15=np.append(DATA15,model_fit.params[0])\n",
    "    DATA16=np.append(DATA16,model_fit.params[1])\n",
    "\n",
    "    DATA17=np.append(DATA17,median([dueDateD[i,0],dueDateM[i,0],dueDateW[i,0],dueDateS[i,0]]))\n",
    "    DATA18=np.append(DATA18,mean([dueDateD[i,0],dueDateM[i,0],dueDateW[i,0],dueDateS[i,0]]))\n",
    "    DATA19=np.append(DATA19,gmean([dueDateD[i,0],dueDateM[i,0],dueDateW[i,0],dueDateS[i,0]]))\n",
    "    DATA20=np.append(DATA20,var([dueDateD[i,0],dueDateM[i,0],dueDateW[i,0],dueDateS[i,0]]))\n",
    "    DATA21=np.append(DATA21,std([dueDateD[i,0],dueDateM[i,0],dueDateW[i,0],dueDateS[i,0]]))\n",
    "    DATA22=np.append(DATA22,cov([dueDateD[i,0],dueDateM[i,0],dueDateW[i,0],dueDateS[i,0]]))\n",
    "    model=AutoReg([dueDateD[i,0],dueDateM[i,0],dueDateW[i,0],dueDateS[i,0]],lags=1)\n",
    "    model_fit = model.fit()\n",
    "    DATA23=np.append(DATA23,model_fit.params[0])\n",
    "    DATA24=np.append(DATA24,model_fit.params[1])"
   ]
  },
  {
   "cell_type": "code",
   "execution_count": 890,
   "metadata": {},
   "outputs": [],
   "source": [
    "# For test set: First drop all date related data and the UniqueId from test set and then concatinate the processed data to the rest of test set\n",
    "\n",
    "\n",
    "test_N=test.drop(columns=['OrderDate','InvoiceDate','DueDate'])  # drop all date related data and the UniqueId from test set \n",
    "test_N['Region'].replace(['North America', 'South  America',  'Europe', 'Africa&Asia','South America','Central America','Africa&psia','SouthCUmeVica'], [0, 1, 2, 3,4,5,6,7], inplace=True)  #create dummy variables for region \n",
    "test_N=pd.get_dummies(test_N, columns=['Disputed','InvoiceType'], drop_first=True)  # generate dummies for the rest of categorical variables\n",
    "\n",
    "X_test2=np.column_stack((orderDateD,orderDateM,orderDateW,orderDateS,invoiceD,invoiceM,invoiceW,invoiceS,dueDateD,dueDateM,dueDateW,dueDateS,dueDateY,due_invoice,due_order,invoice_order)) # concatinate part of the date features\n",
    "X_test3=np.column_stack((DATA1,DATA2,DATA3,DATA4,DATA5,DATA6,DATA7,DATA8,DATA9,DATA10,DATA11,DATA12,DATA13,DATA14,DATA15,DATA16,DATA17,DATA18,DATA19,DATA20,DATA21,DATA22,DATA23,DATA24))   # concatinate the statistical features\n",
    "\n",
    "X_test4=test_N.to_numpy()\n",
    "X_test=np.column_stack((X_test4, X_test2,X_test3))                        #generate the test set feature"
   ]
  },
  {
   "cell_type": "markdown",
   "metadata": {
    "colab_type": "text",
    "id": "VBX5y5Uac1rd"
   },
   "source": [
    "# Visualization, Modeling, Machine Learning\n",
    "\n",
    "Building a XGBoost model that can predict whether an invoice will have payment delayed or not and how different features influence the outcome. \n"
   ]
  },
  {
   "cell_type": "code",
   "execution_count": 7,
   "metadata": {
    "colab": {},
    "colab_type": "code",
    "id": "nzkTA5ii6i3s"
   },
   "outputs": [
    {
     "data": {
      "text/html": [
       "<div>\n",
       "<style scoped>\n",
       "    .dataframe tbody tr th:only-of-type {\n",
       "        vertical-align: middle;\n",
       "    }\n",
       "\n",
       "    .dataframe tbody tr th {\n",
       "        vertical-align: top;\n",
       "    }\n",
       "\n",
       "    .dataframe thead th {\n",
       "        text-align: right;\n",
       "    }\n",
       "</style>\n",
       "<table border=\"1\" class=\"dataframe\">\n",
       "  <thead>\n",
       "    <tr style=\"text-align: right;\">\n",
       "      <th></th>\n",
       "      <th>UniqueId</th>\n",
       "      <th>Region</th>\n",
       "      <th>OrderDate</th>\n",
       "      <th>InvoiceDate</th>\n",
       "      <th>DueDate</th>\n",
       "      <th>Amount</th>\n",
       "      <th>Disputed</th>\n",
       "      <th>InvoiceType</th>\n",
       "    </tr>\n",
       "  </thead>\n",
       "  <tbody>\n",
       "    <tr>\n",
       "      <th>0</th>\n",
       "      <td>5420077969</td>\n",
       "      <td>South America</td>\n",
       "      <td>2013-03-15</td>\n",
       "      <td>2013-06-05</td>\n",
       "      <td>2013-07-18</td>\n",
       "      <td>34.360</td>\n",
       "      <td>No</td>\n",
       "      <td>Electronic</td>\n",
       "    </tr>\n",
       "    <tr>\n",
       "      <th>1</th>\n",
       "      <td>1020758229</td>\n",
       "      <td>Europe</td>\n",
       "      <td>2013-04-11</td>\n",
       "      <td>2013-06-06</td>\n",
       "      <td>2013-07-19</td>\n",
       "      <td>67.190</td>\n",
       "      <td>No</td>\n",
       "      <td>Electronic</td>\n",
       "    </tr>\n",
       "    <tr>\n",
       "      <th>2</th>\n",
       "      <td>6687811896</td>\n",
       "      <td>South America</td>\n",
       "      <td>2013-03-27</td>\n",
       "      <td>2013-06-06</td>\n",
       "      <td>2013-06-29</td>\n",
       "      <td>63.740</td>\n",
       "      <td>No</td>\n",
       "      <td>Electronic</td>\n",
       "    </tr>\n",
       "    <tr>\n",
       "      <th>3</th>\n",
       "      <td>8365605418</td>\n",
       "      <td>Europe</td>\n",
       "      <td>2013-04-27</td>\n",
       "      <td>2013-06-06</td>\n",
       "      <td>2013-07-19</td>\n",
       "      <td>65.160</td>\n",
       "      <td>No</td>\n",
       "      <td>Electronic</td>\n",
       "    </tr>\n",
       "    <tr>\n",
       "      <th>4</th>\n",
       "      <td>8019405718</td>\n",
       "      <td>North America</td>\n",
       "      <td>2013-04-08</td>\n",
       "      <td>2013-06-06</td>\n",
       "      <td>2013-07-13</td>\n",
       "      <td>47.990</td>\n",
       "      <td>Yes</td>\n",
       "      <td>Paper</td>\n",
       "    </tr>\n",
       "  </tbody>\n",
       "</table>\n",
       "</div>"
      ],
      "text/plain": [
       "     UniqueId         Region   OrderDate InvoiceDate     DueDate  Amount  \\\n",
       "0  5420077969  South America  2013-03-15  2013-06-05  2013-07-18  34.360   \n",
       "1  1020758229         Europe  2013-04-11  2013-06-06  2013-07-19  67.190   \n",
       "2  6687811896  South America  2013-03-27  2013-06-06  2013-06-29  63.740   \n",
       "3  8365605418         Europe  2013-04-27  2013-06-06  2013-07-19  65.160   \n",
       "4  8019405718  North America  2013-04-08  2013-06-06  2013-07-13  47.990   \n",
       "\n",
       "  Disputed InvoiceType  \n",
       "0       No  Electronic  \n",
       "1       No  Electronic  \n",
       "2       No  Electronic  \n",
       "3       No  Electronic  \n",
       "4      Yes       Paper  "
      ]
     },
     "execution_count": 7,
     "metadata": {},
     "output_type": "execute_result"
    }
   ],
   "source": [
    "#Loading Test data before generating features\n",
    "test_data=pd.read_csv('test.csv')\n",
    "test_data.head()"
   ]
  },
  {
   "cell_type": "code",
   "execution_count": 969,
   "metadata": {
    "colab": {},
    "colab_type": "code",
    "id": "EACDc1md6jBU"
   },
   "outputs": [
    {
     "name": "stdout",
     "output_type": "stream",
     "text": [
      "4.0\n",
      "0.0\n"
     ]
    }
   ],
   "source": [
    "# compare the test and train set that they are differnet values\n",
    "\n",
    "print(X_test[0,0])\n",
    "print(X_train[0,0])"
   ]
  },
  {
   "cell_type": "code",
   "execution_count": 967,
   "metadata": {},
   "outputs": [
    {
     "name": "stdout",
     "output_type": "stream",
     "text": [
      "Mean F1: 0.967 (+/- 0.007)\n"
     ]
    }
   ],
   "source": [
    "from xgboost import XGBClassifier\n",
    "from sklearn.model_selection import KFold\n",
    "from sklearn.model_selection import cross_val_score\n",
    "\n",
    "model = XGBClassifier()\n",
    "kfold = KFold(n_splits=10, random_state=7,shuffle=True)\n",
    "results = cross_val_score(model, X_train, Y_train, cv=10,scoring='f1')\n",
    "f1_score = cross_val_score(model, X_train, Y_train,cv=5, scoring='f1')\n",
    "print(\"Mean F1: %0.3f (+/- %0.3f)\" % (np.mean(f1_score), np.std(f1_score)) )"
   ]
  },
  {
   "cell_type": "code",
   "execution_count": 1098,
   "metadata": {},
   "outputs": [
    {
     "data": {
      "image/png": "[encoded data removed]",
      "text/plain": [
       "<Figure size 432x288 with 1 Axes>"
      ]
     },
     "metadata": {
      "needs_background": "light"
     },
     "output_type": "display_data"
    }
   ],
   "source": [
    "#top 20 features and their feature importance\n",
    "impo=model.feature_importances_\n",
    "objects = [ 'Region','Amount','Disputed','InvoiceType','orderDateD','orderDateM','orderDateW','orderDateS','invoiceD','invoiceM','invoiceW','invoiceS','dueDateD','dueDateM','dueDateW','dueDateS','dueDateY','due_invoice','due_order','invoice_order','med_orderDateD','mean_orderDateD','gmean_orderDateD','var_orderDateD','std_orderDateD','cov_orderDateD','AR1_orderDateD','AR2_orderDateD','medi_invoiceD','mean_invoiceD','gmean_invoiceD','var_invoiceD','std_invoiceD','cov_invoiceD','Ar1_invoiceD','AR2_invoiceD','medi_dueDateD','mean_dueDateD','gmean_dueDateD','var_dueDateD','std_dueDateD','cov_dueDateD','AR1_dueDateD','AR2_dueDateD']\n",
    "\n",
    "col = list(zip(objects ,impo ))\n",
    "kk=np.array(col)\n",
    "ee=kk[kk[:, 1].argsort()[::-1]]\n",
    "NEW=(ee[:20])# top 20 features\n",
    "new=NEW[NEW[:, 1].argsort()]\n",
    "pyplot.bar([x for x in range(len(new[:,1]))], new[:,0])\n",
    "pyplot.show()\n",
    "\n"
   ]
  },
  {
   "cell_type": "code",
   "execution_count": null,
   "metadata": {},
   "outputs": [],
   "source": [
    "# The above graph shows that due_invoice (differnce between due date and Invoice date) has the most imformative infromation and the next one is AR2_ dueDateD which the second parameters for AR model (Autocorrelation) for due date of day data\n",
    "#the third one is the variance of teh day of due date feature"
   ]
  },
  {
   "cell_type": "code",
   "execution_count": 1089,
   "metadata": {
    "colab": {},
    "colab_type": "code",
    "id": "SgMLBdBaL673"
   },
   "outputs": [],
   "source": [
    "# convert numpy array to Pandas dataframe\n",
    "df = pd.DataFrame(Y_pred, columns = ['Delay'])"
   ]
  },
  {
   "cell_type": "code",
   "execution_count": 1090,
   "metadata": {},
   "outputs": [],
   "source": [
    "# replace 0 with True based on 'Delay_True' dummy variable and 1 with False one\n",
    "df=df.replace(to_replace=0, value=\"True\")\n",
    "df=df.replace(to_replace=1, value=\"False\")"
   ]
  },
  {
   "cell_type": "code",
   "execution_count": 1091,
   "metadata": {
    "colab": {},
    "colab_type": "code",
    "id": "_trNCAAzL67H"
   },
   "outputs": [],
   "source": [
    "# save the data in CSV format with 'Delay' column\n",
    "\n",
    "df.to_csv('result.csv',index=False)"
   ]
  }
 ],
 "metadata": {
  "colab": {
   "collapsed_sections": [],
   "name": "Questions.ipynb",
   "provenance": []
  },
  "kernelspec": {
   "display_name": "Python 3.7.11 ('base')",
   "language": "python",
   "name": "python3"
  },
  "language_info": {
   "codemirror_mode": {
    "name": "ipython",
    "version": 3
   },
   "file_extension": ".py",
   "mimetype": "text/x-python",
   "name": "python",
   "nbconvert_exporter": "python",
   "pygments_lexer": "ipython3",
   "version": "3.7.11"
  },
  "vscode": {
   "interpreter": {
    "hash": "f08154012ddadd8e950e6e9e035c7a7b32c136e7647e9b7c77e02eb723a8bedb"
   }
  }
 },
 "nbformat": 4,
 "nbformat_minor": 4
}
